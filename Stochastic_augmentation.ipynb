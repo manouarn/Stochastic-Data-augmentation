{
  "nbformat": 4,
  "nbformat_minor": 0,
  "metadata": {
    "colab": {
      "provenance": [],
      "collapsed_sections": [],
      "toc_visible": true,
      "authorship_tag": "ABX9TyO97EeiP6S2CPxjGpGIYP9r",
      "include_colab_link": true
    },
    "kernelspec": {
      "name": "python3",
      "display_name": "Python 3"
    },
    "language_info": {
      "name": "python"
    }
  },
  "cells": [
    {
      "cell_type": "markdown",
      "metadata": {
        "id": "view-in-github",
        "colab_type": "text"
      },
      "source": [
        "<a href=\"https://colab.research.google.com/github/manouarn/Stochastic-Data-augmentation/blob/main/Stochastic_augmentation.ipynb\" target=\"_parent\"><img src=\"https://colab.research.google.com/assets/colab-badge.svg\" alt=\"Open In Colab\"/></a>"
      ]
    },
    {
      "cell_type": "code",
      "execution_count": null,
      "metadata": {
        "id": "EuBIkhmO3AJy",
        "colab": {
          "base_uri": "https://localhost:8080/"
        },
        "outputId": "c4d25516-e885-4e11-b7e7-e15aa3a6e421"
      },
      "outputs": [
        {
          "output_type": "stream",
          "name": "stdout",
          "text": [
            "Accuracy score after training on augmented dataset 0.9882\n"
          ]
        }
      ],
      "source": [
        "from sklearn.datasets import fetch_openml\n",
        "from scipy.ndimage.interpolation import shift\n",
        "from sklearn.metrics import accuracy_score\n",
        "import numpy as np\n",
        "import tensorflow as tf\n",
        "from sklearn import svm\n",
        "(X_train, y_train), (X_test, y_test) = tf.keras.datasets.mnist.load_data()\n",
        "\n",
        "X_train = X_train.reshape(60000, 784)\n",
        "X_test = X_test.reshape(10000, 784)\n",
        "X_train = X_train[:60000, :]\n",
        "y_train = y_train[:60000]\n",
        "X_test = X_test[:10000, :]\n",
        "y_test = y_test[:10000]\n",
        "# Method to shift the image by given dimension\n",
        "def shift_image(image, dx, dy):\n",
        "    image = image.reshape((28, 28))\n",
        "    shifted_image = shift(image, [dy, dx], cval=7, mode=\"constant\")\n",
        "    return shifted_image.reshape([-1])\n",
        "\n",
        "\n",
        "# Creating Augmented Dataset\n",
        "X_train_augmented = [image for image in X_train]\n",
        "y_train_augmented = [image for image in y_train]\n",
        "for dx, dy in ((1,0), (-1,0), (0,1), (0,-1)):\n",
        "     for image, label in zip(X_train, y_train):\n",
        "             X_train_augmented.append(shift_image(image, dx, dy))\n",
        "\t\t\t\t\t  \n",
        "             y_train_augmented.append(label)\n",
        "\n",
        "\n",
        "X_train_augmented = np.array(X_train_augmented)\n",
        "y_train_augmented = np.array(y_train_augmented)\n",
        "\n",
        "\n",
        "# Training on augmented dataset\n",
        "model = svm.SVC()\n",
        "model.fit(X_train_augmented, y_train_augmented)\n",
        "\n",
        "# Evaluating the model\n",
        "y_pred_after_augmented =  model.predict(X_test)\n",
        "score = accuracy_score(y_test, y_pred_after_augmented)\n",
        "print(\"Accuracy score after training on augmented dataset\", score)\t\t"
      ]
    },
    {
      "cell_type": "markdown",
      "source": [
        "# New Section"
      ],
      "metadata": {
        "id": "ItACV7gDJSrU"
      }
    },
    {
      "cell_type": "code",
      "source": [
        "X_train_augmented.shape"
      ],
      "metadata": {
        "colab": {
          "base_uri": "https://localhost:8080/"
        },
        "id": "_Hwrcv6tDdRL",
        "outputId": "a7667548-06ee-40db-acc2-6f44cb9647b1"
      },
      "execution_count": null,
      "outputs": [
        {
          "output_type": "execute_result",
          "data": {
            "text/plain": [
              "(300000, 784)"
            ]
          },
          "metadata": {},
          "execution_count": 3
        }
      ]
    },
    {
      "cell_type": "code",
      "source": [
        "import pandas as pd\n",
        "import numpy as np\n",
        "from sklearn import svm\n",
        "from sklearn import metrics\n",
        "import matplotlib.pyplot as plt\n",
        "import tensorflow as tf\n",
        "import array as arr\n",
        "from sklearn.metrics import accuracy_score\n",
        "data_length_train=60000     #data_length + 1 Because the data set(Mnist) starts from 0 --------\n",
        "#data_length_test=10 \n",
        "# Download data mnist \n",
        "(X_train, y_train), (X_test, y_test) = tf.keras.datasets.mnist.load_data()\n",
        "X_train = X_train.reshape(60000, 784)\n",
        "X_test = X_test.reshape(10000, 784) \n",
        "X_train = X_train[:60000, :]\n",
        "y_train = y_train[:60000]\n",
        "X_test = X_test[:10000, :]\n",
        "y_test = y_test[:10000]\n",
        "\n",
        "def method_index(x,index_to_compare):#--------------\n",
        "  \n",
        "    t_compare = [];\n",
        "    for index in range(x):\n",
        "       if str(y_train[index])==str(index_to_compare): #------ Method_index\n",
        "        t_compare.append(index);\n",
        "    return t_compare;\n",
        "#-----------------------------------------------------\n",
        "\n",
        "def method_boot_replicates (ind_1,ind_2,ind_3):#---------------------------------\n",
        "#Initialize array      \n",
        "\n",
        " arr1 =np.array( X_train[ind_1]);\n",
        " arr1=arr1.reshape(28,28)    \n",
        " arr2 =np.array( X_train[ind_2]);\n",
        " arr2=arr2.reshape(28,28)\n",
        " arr3 =np.array( X_train[ind_3]);\n",
        " arr3=arr3.reshape(28,28)\n",
        " \n",
        "#Create another array\n",
        "\n",
        " arrt = [None] * 3 ;# size 2                          #------ Methode Bootstrap\n",
        " empty_array = np.empty((28, 28), int)   \n",
        " # copy pixel \n",
        "  \n",
        " for i in range(28):  \n",
        "  for k in range(len(arr1)) : \n",
        "    arrt[0] = arr1[i][k];\n",
        "       \n",
        "    arrt[1] = arr2[i][k];\n",
        "  \n",
        "    arrt[2] = arr3[i][k];\n",
        "   \n",
        "    empty_array[i][k]= np.random.choice(arrt, size=1)\n",
        "    \n",
        " \n",
        " return empty_array\n",
        " #-------------------------------------------------\n",
        " # Creating Augmented Dataset\n",
        " #Copy new data from mnist  data\n",
        "X_train_augmented = [image for image in X_train]\n",
        "y_train_augmented = [image for image in y_train]\n",
        "X_train_augmented = np.array(X_train_augmented)\n",
        "\n",
        "for y in range (10):\n",
        "  tab=[]\n",
        "  tab.extend(method_index (data_length_train,y))\n",
        "  j=len(tab)//3  \n",
        "  for t_u in range(j):\n",
        "\n",
        "    t=method_boot_replicates(tab[0],tab[1],tab[2])\n",
        "    t=t.reshape([-1])\n",
        "\n",
        "    X_train_augmented = np.append(X_train_augmented,[t],axis=0)\n",
        "    y_train_augmented = np.append(y_train_augmented,y)\n",
        "    tab.pop(0)\n",
        "    tab.pop(0)\n",
        "    tab.pop(0)\n",
        "# Training on the existing dataset\n",
        "model = svm.SVC()\n",
        "model.fit(X_train_augmented,y_train_augmented)\n",
        "# Evaluating the model\n",
        "y_pred_after_augmented = model.predict(X_test)\n",
        "score = accuracy_score(y_test, y_pred_after_augmented)\n",
        "print(\"Accuracy score after training on augmented dataset\", score)\n"
      ],
      "metadata": {
        "id": "ledX58U73mFL",
        "colab": {
          "base_uri": "https://localhost:8080/"
        },
        "outputId": "9abcc8ec-1df0-4112-c560-92d5e39b0389"
      },
      "execution_count": null,
      "outputs": [
        {
          "output_type": "stream",
          "name": "stdout",
          "text": [
            "Accuracy score after training on augmented dataset 0.9807\n"
          ]
        }
      ]
    },
    {
      "cell_type": "code",
      "source": [
        "X_train_augmented.shape"
      ],
      "metadata": {
        "colab": {
          "base_uri": "https://localhost:8080/"
        },
        "id": "Ihd_cbLkEQ78",
        "outputId": "f3fcdd29-3256-441b-d10a-a4f72f6f2ea3"
      },
      "execution_count": null,
      "outputs": [
        {
          "output_type": "execute_result",
          "data": {
            "text/plain": [
              "(79997, 784)"
            ]
          },
          "metadata": {},
          "execution_count": 5
        }
      ]
    },
    {
      "cell_type": "code",
      "source": [
        "from sklearn.datasets import fetch_openml\n",
        "from sklearn.ensemble import RandomForestClassifier\n",
        "from sklearn.metrics import accuracy_score\n",
        "import tensorflow as tf\n",
        "from sklearn import svm\n",
        "\n",
        "# Get the data and target\n",
        "(X_train, y_train), (X_test, y_test) = tf.keras.datasets.mnist.load_data()\n",
        "\n",
        "# Split the train and test set\n",
        "X_train = X_train.reshape(60000, 784)\n",
        "X_test = X_test.reshape(10000, 784) \n",
        "X_train = X_train[:60000, :]\n",
        "y_train = y_train[:60000]\n",
        "X_test = X_test[:10000, :]\n",
        "y_test = y_test[:10000]\n",
        "\n",
        "\n",
        "# Training on the existing dataset\n",
        "model = svm.SVC()\n",
        "model.fit(X_train, y_train)\n",
        "# Evaluating the model\n",
        "y_pred = model.predict(X_test)\n",
        "score = accuracy_score(y_test, y_pred)\n",
        "print(\"Accuracy score after training on existing dataset\", score)"
      ],
      "metadata": {
        "id": "AgEjfd5j4PvP",
        "colab": {
          "base_uri": "https://localhost:8080/"
        },
        "outputId": "7f112325-48f2-4942-89bf-d4e2c2a21033"
      },
      "execution_count": null,
      "outputs": [
        {
          "output_type": "stream",
          "name": "stdout",
          "text": [
            "Accuracy score after training on existing dataset 0.9792\n"
          ]
        }
      ]
    },
    {
      "cell_type": "code",
      "source": [
        "X_train.shape"
      ],
      "metadata": {
        "colab": {
          "base_uri": "https://localhost:8080/"
        },
        "id": "V1L3tASXES7i",
        "outputId": "4893c35a-ea33-454e-d46e-b6a1cfcd2911"
      },
      "execution_count": null,
      "outputs": [
        {
          "output_type": "execute_result",
          "data": {
            "text/plain": [
              "(60000, 784)"
            ]
          },
          "metadata": {},
          "execution_count": 10
        }
      ]
    }
  ]
}